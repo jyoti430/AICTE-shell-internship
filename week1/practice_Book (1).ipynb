{
  "nbformat": 4,
  "nbformat_minor": 0,
  "metadata": {
    "colab": {
      "provenance": []
    },
    "kernelspec": {
      "name": "python3",
      "display_name": "Python 3"
    },
    "language_info": {
      "name": "python"
    }
  },
  "cells": [
    {
      "cell_type": "code",
      "execution_count": 53,
      "metadata": {
        "colab": {
          "base_uri": "https://localhost:8080/"
        },
        "id": "0-5HqVD_T9rV",
        "outputId": "b3291218-5ebd-4338-d703-267d3a7c8c69"
      },
      "outputs": [
        {
          "output_type": "stream",
          "name": "stdout",
          "text": [
            "Found 74 files belonging to 6 classes.\n",
            "Using 60 files for training.\n",
            "['cardboard', 'glass', 'metal', 'paper', 'plastic', 'trash']\n"
          ]
        }
      ],
      "source": [
        "import zipfile\n",
        "\n",
        "with zipfile.ZipFile(\"garbage.zip\", 'r') as zip_ref:\n",
        "    zip_ref.extractall(\"dataset\")\n",
        "    dataset_dir = \"dataset/garbage/TrashType_image_dataset\"\n",
        "train_ds = tf.keras.utils.image_dataset_from_directory(\n",
        "    dataset_dir,\n",
        "    validation_split=0.2,\n",
        "    subset=\"training\",\n",
        "    seed=42,\n",
        "    shuffle=True,\n",
        "    image_size=(124, 124),\n",
        "    batch_size=32\n",
        ")\n",
        "print(train_ds.class_names)\n",
        "\n"
      ]
    },
    {
      "cell_type": "code",
      "metadata": {
        "id": "2a3166e2",
        "colab": {
          "base_uri": "https://localhost:8080/"
        },
        "outputId": "e41cf6c4-7840-47ce-e682-94f4f019dd11"
      },
      "source": [
        "import pandas as pd\n",
        "\n",
        "# No CSV to load, so we skip this part\n",
        "print(\"No CSV file needed for this project!\")\n"
      ],
      "execution_count": 54,
      "outputs": [
        {
          "output_type": "stream",
          "name": "stdout",
          "text": [
            "No CSV file needed for this project!\n"
          ]
        }
      ]
    }
  ]
}