{
  "nbformat": 4,
  "nbformat_minor": 0,
  "metadata": {
    "colab": {
      "provenance": []
    },
    "kernelspec": {
      "name": "python3",
      "display_name": "Python 3"
    },
    "language_info": {
      "name": "python"
    }
  },
  "cells": [
    {
      "cell_type": "code",
      "execution_count": 51,
      "metadata": {
        "colab": {
          "base_uri": "https://localhost:8080/"
        },
        "id": "0-5HqVD_T9rV",
        "outputId": "ea2c8b85-0ad0-4d43-ba21-5d9590b84552"
      },
      "outputs": [
        {
          "output_type": "stream",
          "name": "stdout",
          "text": [
            "Found 74 files belonging to 6 classes.\n",
            "Using 60 files for training.\n",
            "['cardboard', 'glass', 'metal', 'paper', 'plastic', 'trash']\n"
          ]
        }
      ],
      "source": [
        "import zipfile\n",
        "\n",
        "with zipfile.ZipFile(\"garbage.zip\", 'r') as zip_ref:\n",
        "    zip_ref.extractall(\"dataset\")\n",
        "    dataset_dir = \"dataset/garbage/TrashType_image_dataset\"\n",
        "train_ds = tf.keras.utils.image_dataset_from_directory(\n",
        "    dataset_dir,\n",
        "    validation_split=0.2,\n",
        "    subset=\"training\",\n",
        "    seed=42,\n",
        "    shuffle=True,\n",
        "    image_size=(124, 124),\n",
        "    batch_size=32\n",
        ")\n",
        "print(train_ds.class_names)\n",
        "\n"
      ]
    },
    {
      "cell_type": "code",
      "metadata": {
        "id": "2a3166e2",
        "colab": {
          "base_uri": "https://localhost:8080/",
          "height": 106
        },
        "outputId": "32390da6-dfa6-4ffc-a172-8d16b16c2959"
      },
      "source": [
        "import pandas as pd\n",
        "\n",
        "# Replace 'your_file_path.csv' with the actual path to your CSV file\n",
        "try:\n",
        "    df = pd.read_csv('your_file_path.csv')\n",
        "    print(\"CSV file loaded successfully!\")\n",
        "    # Display the first 5 rows of the DataFrame\n",
        "    display(df.head())\n",
        "except FileNotFoundError:\n",
        "    print(\"Error: The file was not found. Please check the file path.\")\n",
        "except Exception as e:\n",
        "    print(f\"An error occurred: {e}\")"
      ],
      "execution_count": 52,
      "outputs": [
        {
          "output_type": "error",
          "ename": "SyntaxError",
          "evalue": "incomplete input (ipython-input-52-2463911044.py, line 6)",
          "traceback": [
            "\u001b[0;36m  File \u001b[0;32m\"/tmp/ipython-input-52-2463911044.py\"\u001b[0;36m, line \u001b[0;32m6\u001b[0m\n\u001b[0;31m    ...\u001b[0m\n\u001b[0m       ^\u001b[0m\n\u001b[0;31mSyntaxError\u001b[0m\u001b[0;31m:\u001b[0m incomplete input\n"
          ]
        }
      ]
    }
  ]
}