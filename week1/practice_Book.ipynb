{
  "nbformat": 4,
  "nbformat_minor": 0,
  "metadata": {
    "colab": {
      "provenance": []
    },
    "kernelspec": {
      "name": "python3",
      "display_name": "Python 3"
    },
    "language_info": {
      "name": "python"
    }
  },
  "cells": [
    {
      "cell_type": "code",
      "execution_count": 4,
      "metadata": {
        "colab": {
          "base_uri": "https://localhost:8080/"
        },
        "id": "0-5HqVD_T9rV",
        "outputId": "bdc9c0a0-3ca6-411f-df4d-3faffe777732"
      },
      "outputs": [
        {
          "output_type": "stream",
          "name": "stdout",
          "text": [
            "Hello\n"
          ]
        }
      ],
      "source": [
        "\n",
        "print(\"Hello\")\n",
        "import pandas as pd\n",
        "import tensorflow as tf\n"
      ]
    },
    {
      "cell_type": "code",
      "metadata": {
        "colab": {
          "base_uri": "https://localhost:8080/"
        },
        "id": "2a3166e2",
        "outputId": "8ead0df9-d643-4222-d8d8-e3b552895c9e"
      },
      "source": [
        "import pandas as pd\n",
        "\n",
        "# Replace 'your_file_path.csv' with the actual path to your CSV file\n",
        "try:\n",
        "    df = pd.read_csv('your_file_path.csv')\n",
        "    print(\"CSV file loaded successfully!\")\n",
        "    # Display the first 5 rows of the DataFrame\n",
        "    display(df.head())\n",
        "except FileNotFoundError:\n",
        "    print(\"Error: The file was not found. Please check the file path.\")\n",
        "except Exception as e:\n",
        "    print(f\"An error occurred: {e}\")"
      ],
      "execution_count": 5,
      "outputs": [
        {
          "output_type": "stream",
          "name": "stdout",
          "text": [
            "Error: The file was not found. Please check the file path.\n"
          ]
        }
      ]
    }
  ]
}