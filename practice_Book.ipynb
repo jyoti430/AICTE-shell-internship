{
  "nbformat": 4,
  "nbformat_minor": 0,
  "metadata": {
    "colab": {
      "provenance": [],
      "authorship_tag": "ABX9TyN/3zDh0yY0qdIOc3U0PLOF",
      "include_colab_link": true
    },
    "kernelspec": {
      "name": "python3",
      "display_name": "Python 3"
    },
    "language_info": {
      "name": "python"
    }
  },
  "cells": [
    {
      "cell_type": "markdown",
      "metadata": {
        "id": "view-in-github",
        "colab_type": "text"
      },
      "source": [
        "<a href=\"https://colab.research.google.com/github/jyoti430/AICTE-shell-internship/blob/main/practice_Book.ipynb\" target=\"_parent\"><img src=\"https://colab.research.google.com/assets/colab-badge.svg\" alt=\"Open In Colab\"/></a>"
      ]
    },
    {
      "cell_type": "code",
      "execution_count": 1,
      "metadata": {
        "id": "0-5HqVD_T9rV"
      },
      "outputs": [],
      "source": [
        "# Import pandas and TensorFlow\n",
        "import pandas as pd\n",
        "import tensorflow as tf\n",
        "\n",
        "# Print versions (optional, just to verify it's working)\n",
        "print(\"Pandas version:\", pd.__version__)\n",
        "print(\"TensorFlow version:\", tf.__version__)\n",
        "\n"
      ]
    },
    {
      "cell_type": "code",
      "metadata": {
        "id": "2a3166e2"
      },
      "source": [
        "import pandas as pd\n",
        "\n",
        "# Replace 'your_file_path.csv' with the actual path to your CSV file\n",
        "try:\n",
        "    df = pd.read_csv('your_file_path.csv')\n",
        "    print(\"CSV file loaded successfully!\")\n",
        "    # Display the first 5 rows of the DataFrame\n",
        "    display(df.head())\n",
        "except FileNotFoundError:\n",
        "    print(\"Error: The file was not found. Please check the file path.\")\n",
        "except Exception as e:\n",
        "    print(f\"An error occurred: {e}\")"
      ],
      "execution_count": null,
      "outputs": []
    }
  ]
}